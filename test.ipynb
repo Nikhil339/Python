{
 "cells": [
  {
   "cell_type": "code",
   "execution_count": 2,
   "metadata": {},
   "outputs": [
    {
     "name": "stdout",
     "output_type": "stream",
     "text": [
      "{1: 1, 2: 4, 3: 9, 4: 16, 5: 25, 6: 36, 7: 49, 8: 64, 9: 81, 10: 100, 11: 121, 12: 144, 13: 169, 14: 196, 15: 225}\n"
     ]
    }
   ],
   "source": [
    "Dict = {x:x**2 for x in range(1,16)}\n",
    "print(Dict)"
   ]
  },
  {
   "cell_type": "code",
   "execution_count": 3,
   "metadata": {},
   "outputs": [
    {
     "name": "stdout",
     "output_type": "stream",
     "text": [
      "a 13428\n",
      "b 5874\n"
     ]
    }
   ],
   "source": [
    "Dict = {'Animal':700, 'Ball':5874, 'Dat':560, 'Dog':400, 'Eho':5874, 'Fan': 20}\n",
    "sum = 0\n",
    "L = []\n",
    "for i in Dict:\n",
    "    sum += Dict[i]\n",
    "    L.append(Dict[i])\n",
    "print(\"a\", sum)\n",
    "print(\"b\", max(L))"
   ]
  },
  {
   "cell_type": "code",
   "execution_count": 7,
   "metadata": {},
   "outputs": [
    {
     "name": "stdout",
     "output_type": "stream",
     "text": [
      "{'c1': 'Red', 'c2': 'Green'}\n"
     ]
    }
   ],
   "source": [
    "Dict = {'c1': 'Red', 'c2': 'Green', 'c3': None}\n",
    "\n",
    "for i in Dict:\n",
    "    if Dict[i] == None:\n",
    "        x = i\n",
    "\n",
    "del Dict[x]\n",
    "\n",
    "print(Dict)"
   ]
  },
  {
   "cell_type": "code",
   "execution_count": null,
   "metadata": {},
   "outputs": [],
   "source": []
  }
 ],
 "metadata": {
  "kernelspec": {
   "display_name": "base",
   "language": "python",
   "name": "python3"
  },
  "language_info": {
   "codemirror_mode": {
    "name": "ipython",
    "version": 3
   },
   "file_extension": ".py",
   "mimetype": "text/x-python",
   "name": "python",
   "nbconvert_exporter": "python",
   "pygments_lexer": "ipython3",
   "version": "3.12.4"
  }
 },
 "nbformat": 4,
 "nbformat_minor": 2
}
