{
 "cells": [
  {
   "cell_type": "code",
   "execution_count": 1,
   "metadata": {},
   "outputs": [
    {
     "name": "stdout",
     "output_type": "stream",
     "text": [
      "The sorted tuple is:\n",
      "[('anand', '4.256'), ('gaurav', '10.365'), ('nikhil', '14.107'), ('lucky', '18.265'), ('akash', '24.541')]\n"
     ]
    }
   ],
   "source": [
    "data = [('lucky', '18.265'), ('nikhil', '14.107'), ('akash', '24.541'), ('anand', '4.256'), ('gaurav', '10.365')]\n",
    "\n",
    "sorted_data = sorted(data, key=lambda x: float(x[1]))\n",
    "\n",
    "print(\"The sorted tuple is:\")\n",
    "print(sorted_data)\n"
   ]
  },
  {
   "cell_type": "code",
   "execution_count": 2,
   "metadata": {},
   "outputs": [
    {
     "name": "stdout",
     "output_type": "stream",
     "text": [
      "The sorted list is:\n",
      "['Apple', 'apricot', 'banana', 'Blueberry', 'cherry']\n"
     ]
    }
   ],
   "source": [
    "data = [\"banana\", \"Apple\", \"cherry\", \"apricot\", \"Blueberry\"]\n",
    "\n",
    "sorted_data = sorted(data, key=lambda x: x.lower())\n",
    "\n",
    "print(\"The sorted list is:\")\n",
    "print(sorted_data)\n"
   ]
  }
 ],
 "metadata": {
  "kernelspec": {
   "display_name": "base",
   "language": "python",
   "name": "python3"
  },
  "language_info": {
   "codemirror_mode": {
    "name": "ipython",
    "version": 3
   },
   "file_extension": ".py",
   "mimetype": "text/x-python",
   "name": "python",
   "nbconvert_exporter": "python",
   "pygments_lexer": "ipython3",
   "version": "3.12.4"
  }
 },
 "nbformat": 4,
 "nbformat_minor": 2
}
