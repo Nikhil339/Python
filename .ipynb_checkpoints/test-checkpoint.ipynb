{
 "cells": [
  {
   "cell_type": "code",
   "execution_count": 2,
   "metadata": {},
   "outputs": [
    {
     "name": "stdout",
     "output_type": "stream",
     "text": [
      "{1: 1, 2: 4, 3: 9, 4: 16, 5: 25, 6: 36, 7: 49, 8: 64, 9: 81, 10: 100, 11: 121, 12: 144, 13: 169, 14: 196, 15: 225}\n"
     ]
    }
   ],
   "source": [
    "Dict = {x:x**2 for x in range(1,16)}\n",
    "print(Dict)"
   ]
  },
  {
   "cell_type": "code",
   "execution_count": 3,
   "metadata": {},
   "outputs": [
    {
     "name": "stdout",
     "output_type": "stream",
     "text": [
      "a 13428\n",
      "b 5874\n"
     ]
    }
   ],
   "source": [
    "Dict = {'Animal':700, 'Ball':5874, 'Dat':560, 'Dog':400, 'Eho':5874, 'Fan': 20}\n",
    "sum = 0\n",
    "L = []\n",
    "for i in Dict:\n",
    "    sum += Dict[i]\n",
    "    L.append(Dict[i])\n",
    "print(\"a\", sum)\n",
    "print(\"b\", max(L))"
   ]
  },
  {
   "cell_type": "code",
   "execution_count": 1,
   "metadata": {},
   "outputs": [
    {
     "name": "stdout",
     "output_type": "stream",
     "text": [
      "{'c1': 'Red', 'c2': 'Green'}\n"
     ]
    }
   ],
   "source": [
    "Dict = {'c1': 'Red', 'c2': 'Green', 'c3': None}\n",
    "\n",
    "for i,x in enumerate(Dict):\n",
    "    if x == None:\n",
    "        break\n",
    "\n",
    "del Dict[x]\n",
    "\n",
    "print(Dict)"
   ]
  },
  {
   "cell_type": "code",
   "execution_count": 2,
   "metadata": {},
   "outputs": [
    {
     "name": "stdout",
     "output_type": "stream",
     "text": [
      "{'l', 'o'}\n",
      "Count: 2\n"
     ]
    }
   ],
   "source": [
    "s = \"Hello\"\n",
    "t = \"World\"\n",
    "\n",
    "s_set = set(s.lower())\n",
    "t_set = set(t.lower())\n",
    "\n",
    "matching = s_set.intersection(t_set)\n",
    "print(matching)\n",
    "\n",
    "count = len(matching)\n",
    "print(f\"Count: {count}\")"
   ]
  },
  {
   "cell_type": "code",
   "execution_count": 8,
   "metadata": {},
   "outputs": [
    {
     "name": "stdout",
     "output_type": "stream",
     "text": [
      "Even index: ['H', 'l', 'o']\n",
      "Odd index: ['e', 'l']\n"
     ]
    }
   ],
   "source": [
    "s = \"Hello\"\n",
    "\n",
    "le = []\n",
    "lo = []\n",
    "\n",
    "for i in range(len(s)):\n",
    "    if i%2 == 0:\n",
    "        le.append(s[i])\n",
    "    else:\n",
    "        lo.append(s[i])\n",
    "\n",
    "print(\"Even index:\", le)\n",
    "print(\"Odd index:\", lo)"
   ]
  },
  {
   "cell_type": "code",
   "execution_count": 18,
   "metadata": {},
   "outputs": [
    {
     "name": "stdout",
     "output_type": "stream",
     "text": [
      "Helo\n"
     ]
    }
   ],
   "source": [
    "s = \"Hello\"\n",
    "\n",
    "if len(s)<2:\n",
    "    print(\"\")\n",
    "else:\n",
    "    new_s = s[:2] + s[-2:]\n",
    "    print(new_s)"
   ]
  },
  {
   "cell_type": "code",
   "execution_count": 19,
   "metadata": {},
   "outputs": [
    {
     "name": "stdout",
     "output_type": "stream",
     "text": [
      "{'w': 1, '3': 1, 'r': 2, 'e': 2, 's': 1, 'o': 1, 'u': 1, 'c': 1}\n"
     ]
    }
   ],
   "source": [
    "s = \"w3resource\"\n",
    "d = {}\n",
    "\n",
    "for i in s:\n",
    "    x = s.count(i)\n",
    "    d[i] = x\n",
    "\n",
    "print(d)"
   ]
  },
  {
   "cell_type": "code",
   "execution_count": 5,
   "metadata": {},
   "outputs": [
    {
     "name": "stdout",
     "output_type": "stream",
     "text": [
      "15\n",
      "120\n"
     ]
    }
   ],
   "source": [
    "def add(l):\n",
    "    x = 0\n",
    "    for i in l:\n",
    "        x += i\n",
    "    return x\n",
    "\n",
    "def mul(l):\n",
    "    x = 1\n",
    "    for i in l:\n",
    "        x *= i\n",
    "    return x\n",
    "\n",
    "l = [1,2,3,4,5]\n",
    "print(add(l))\n",
    "print(mul(l))"
   ]
  },
  {
   "cell_type": "code",
   "execution_count": 2,
   "metadata": {},
   "outputs": [
    {
     "name": "stdout",
     "output_type": "stream",
     "text": [
      "[1, 2, 3, 4, 5]\n"
     ]
    }
   ],
   "source": [
    "def main(x):\n",
    "    ls = set(x)\n",
    "    new_list = list(ls)\n",
    "    return new_list\n",
    "\n",
    "print(main([1,1,1,2,3,4,4,5]))"
   ]
  },
  {
   "cell_type": "code",
   "execution_count": 5,
   "metadata": {},
   "outputs": [
    {
     "name": "stdout",
     "output_type": "stream",
     "text": [
      "1 is neither prime nor composite\n",
      "7 is a prime number\n",
      "10 is a composite number\n"
     ]
    }
   ],
   "source": [
    "def prime(x):\n",
    "    y = 0\n",
    "    for i in range(1,x+1):\n",
    "        if x%i == 0:\n",
    "            y += 1\n",
    "        else:\n",
    "            continue\n",
    "    \n",
    "    if y == 2:\n",
    "        print(x,\"is a prime number\")\n",
    "    elif y == 1:\n",
    "        print(x,\"is neither prime nor composite\")\n",
    "    else:\n",
    "        print(x,\"is a composite number\")\n",
    "\n",
    "prime(1)\n",
    "prime(7)\n",
    "prime(10)"
   ]
  },
  {
   "cell_type": "code",
   "execution_count": 11,
   "metadata": {},
   "outputs": [
    {
     "name": "stdout",
     "output_type": "stream",
     "text": [
      "1 4 6 8 9 10 "
     ]
    }
   ],
   "source": [
    "def prime(x):\n",
    "    y = 0\n",
    "    for i in range(1,x+1):\n",
    "        if x%i == 0:\n",
    "            y += 1\n",
    "        else:\n",
    "            continue\n",
    "    \n",
    "    if y == 2:\n",
    "        return True\n",
    "    elif y == 1:\n",
    "        return False\n",
    "    else:\n",
    "        return False\n",
    "    \n",
    "\n",
    "def main(n):\n",
    "    i = 1\n",
    "    while  i <= n:\n",
    "        if prime(i):\n",
    "            pass\n",
    "        elif i != 2 and i%2 == 0:\n",
    "            print(i, end=\" \")\n",
    "        else:\n",
    "            print(i, end=\" \")\n",
    "        \n",
    "        i += 1\n",
    "\n",
    "main(10)"
   ]
  },
  {
   "cell_type": "code",
   "execution_count": 3,
   "metadata": {},
   "outputs": [
    {
     "name": "stdout",
     "output_type": "stream",
     "text": [
      "['My', 'name', 'is', 'Kelly']\n",
      "[('M', 'y'), ('na', 'me'), ('i', 's'), ('Ke', 'lly')]\n",
      "['My', 'name', 'is', 'Kelly']\n"
     ]
    }
   ],
   "source": [
    "#using for loop\n",
    "list1 = [\"M\", \"na\", \"i\", \"Ke\"]\n",
    "list2 = [\"y\", \"me\", \"s\", \"lly\"]\n",
    "list3 = []\n",
    "\n",
    "for i in range(len(list1)):\n",
    "    x = list1[i] + list2[i]\n",
    "    list3.append(x)\n",
    "\n",
    "print(list3)\n",
    "\n",
    "#using zip\n",
    "x = zip(list1, list2)\n",
    "xl = list(x)\n",
    "print(xl)\n",
    "\n",
    "l = []\n",
    "\n",
    "for i in xl:\n",
    "    z = i[0] + i[1]\n",
    "    l.append(z)\n",
    "\n",
    "print(l)"
   ]
  },
  {
   "cell_type": "code",
   "execution_count": 7,
   "metadata": {},
   "outputs": [
    {
     "name": "stdout",
     "output_type": "stream",
     "text": [
      "['Hello Dear', 'Hello Sir', 'take Dear', 'take Sir']\n",
      "['Hello Dear', 'take Sir']\n"
     ]
    }
   ],
   "source": [
    "list1 = [\"Hello \", \"take \"]\n",
    "list2 = [\"Dear\", \"Sir\"]\n",
    "list3 = []\n",
    "list4 = []\n",
    "\n",
    "for i in list1:\n",
    "    for j in list2:\n",
    "        x = i + j\n",
    "        list3.append(x)\n",
    "\n",
    "for i in range(len(list1)):\n",
    "    x = list1[i] + list2[i]\n",
    "    list4.append(x)\n",
    "\n",
    "print(list3)\n",
    "print(list4)"
   ]
  },
  {
   "cell_type": "code",
   "execution_count": 14,
   "metadata": {},
   "outputs": [
    {
     "name": "stdout",
     "output_type": "stream",
     "text": [
      "1505 1540 1575 1610 1645 1680 1715 1750 1785 1820 1855 1890 1925 1960 1995 2030 2065 2100 2135 2170 2205 2240 2275 2310 2345 2380 2415 2450 2485 2520 2555 2590 2625 2660 2695 "
     ]
    }
   ],
   "source": [
    "for i in range(1500, 2701):\n",
    "    if i%7 == 0 and i%5 == 0:\n",
    "        print(i, end=\" \")\n",
    "        "
   ]
  },
  {
   "cell_type": "code",
   "execution_count": 4,
   "metadata": {},
   "outputs": [
    {
     "name": "stdout",
     "output_type": "stream",
     "text": [
      "1 2 3 5 8 13 21 34 55 89 144 233 377 610 987 1597 2584 4181 6765 10946 17711 28657 46368 75025 121393 196418 317811 514229 832040 1346269 2178309 3524578 5702887 9227465 14930352 24157817 39088169 63245986 102334155 165580141 267914296 433494437 701408733 1134903170 1836311903 2971215073 4807526976 7778742049 12586269025 20365011074 32951280099 "
     ]
    }
   ],
   "source": [
    "n = 50\n",
    "\n",
    "num1 = 0\n",
    "num2 = 1\n",
    "num = 0\n",
    "\n",
    "for i in range(n+1):\n",
    "    num = num1 + num2\n",
    "    print(num, end=\" \")\n",
    "    num1, num2 = num2, num"
   ]
  },
  {
   "cell_type": "code",
   "execution_count": 1,
   "metadata": {},
   "outputs": [
    {
     "name": "stdout",
     "output_type": "stream",
     "text": [
      "Name: Shyam  Age: 56\n",
      "Name: Prasad  Age: 60\n",
      "Prasad is the eldest.\n"
     ]
    }
   ],
   "source": [
    "class Person:\n",
    "    def __init__(self, name, age, gender):\n",
    "        self.name = name\n",
    "        self.age = age\n",
    "        self.gender = gender\n",
    "\n",
    "    def show(self):\n",
    "        print(\"Name:\", self.name,\" Age:\", self.age)\n",
    "    \n",
    "def eldest(per1, per2):\n",
    "    if per1.age > per2.age:\n",
    "        return per1\n",
    "    elif per2.age>per1.age:\n",
    "        return per2\n",
    "    else:\n",
    "        return None\n",
    "    \n",
    "person1 = Person(\"Shyam\", 56, \"Male\")\n",
    "person2 = Person(\"Prasad\", 60, \"Male\")\n",
    "\n",
    "person1.show()\n",
    "person2.show()\n",
    "\n",
    "elder = eldest(person1, person2)\n",
    "if elder:\n",
    "    print(f\"{elder.name} is the eldest.\")\n",
    "else:\n",
    "    print(\"Both are of same age.\")"
   ]
  },
  {
   "cell_type": "code",
   "execution_count": 5,
   "metadata": {},
   "outputs": [
    {
     "name": "stdout",
     "output_type": "stream",
     "text": [
      "\n",
      "Welcome to XYZ Bank\n",
      "Select from the following options: \n",
      "1. Create account\n",
      "2. Deposit money\n",
      "3. Withdraw money\n",
      "4. Check balance\n",
      "5. Exit\n",
      "\n",
      "\n",
      "Congratulations, you have successfully created an account:\n",
      "Name:Nikhil\n",
      "Balance: ₹0\n",
      "\n",
      "Welcome to XYZ Bank\n",
      "Select from the following options: \n",
      "1. Create account\n",
      "2. Deposit money\n",
      "3. Withdraw money\n",
      "4. Check balance\n",
      "5. Exit\n",
      "\n",
      "\n",
      "₹3000.0 deposited successfully.\n",
      "\n",
      "Welcome to XYZ Bank\n",
      "Select from the following options: \n",
      "1. Create account\n",
      "2. Deposit money\n",
      "3. Withdraw money\n",
      "4. Check balance\n",
      "5. Exit\n",
      "\n",
      "\n",
      "₹1500.0 withdrawn successfully.\n",
      "\n",
      "Welcome to XYZ Bank\n",
      "Select from the following options: \n",
      "1. Create account\n",
      "2. Deposit money\n",
      "3. Withdraw money\n",
      "4. Check balance\n",
      "5. Exit\n",
      "\n",
      "\n",
      "Account name: Nikhil\n",
      "Account balance: ₹1500.0\n",
      "\n",
      "Welcome to XYZ Bank\n",
      "Select from the following options: \n",
      "1. Create account\n",
      "2. Deposit money\n",
      "3. Withdraw money\n",
      "4. Check balance\n",
      "5. Exit\n",
      "\n",
      "\n",
      "Thank you!\n"
     ]
    }
   ],
   "source": [
    "class Bank:\n",
    "    def Account(self, name, initial_balance = 0):\n",
    "        self.name = name\n",
    "        self.balance = initial_balance\n",
    "        print(f\"Congratulations, you have successfully created an account:\\nName:{self.name}\\nBalance: ₹{self.balance}\")\n",
    "    \n",
    "    def Deposit(self, amount):\n",
    "        if amount > 0:\n",
    "            self.balance += amount\n",
    "            print(f\"₹{amount} deposited successfully.\")\n",
    "        else:\n",
    "            print(\"Amount must be positive.\")\n",
    "\n",
    "    def Withdraw(self, amount):\n",
    "        if 0 < amount < self.balance:\n",
    "            self.balance -= amount\n",
    "            print(f\"₹{amount} withdrawn successfully.\")\n",
    "        elif amount > self.balance:\n",
    "            print(\"Insufficient account balance.\")\n",
    "        else:\n",
    "            print(\"Amount must be positive.\")\n",
    "\n",
    "    def CheckBalance(self):\n",
    "        print(f\"Account name: {self.name}\")\n",
    "        print(f\"Account balance: ₹{self.balance}\")\n",
    "\n",
    "def main():\n",
    "    accounts = {}\n",
    "\n",
    "    while True:\n",
    "        print()\n",
    "        print(\"Welcome to XYZ Bank\")\n",
    "        print(\"Select from the following options: \")\n",
    "        print(\"1. Create account\")\n",
    "        print(\"2. Deposit money\")\n",
    "        print(\"3. Withdraw money\")\n",
    "        print(\"4. Check balance\")\n",
    "        print(\"5. Exit\")\n",
    "        print()\n",
    "        option = int(input(\"Option number: \"))\n",
    "\n",
    "        if option == 1:\n",
    "            print()\n",
    "            name = input(\"Enter account name: \")\n",
    "            if name in accounts:\n",
    "                print(\"Account already exists.\")\n",
    "            else:\n",
    "                accounts[name] = Bank()\n",
    "                accounts[name].Account(name)\n",
    "        elif option == 2:\n",
    "            print()\n",
    "            name = input(\"Enter account name: \")\n",
    "            if name in accounts:\n",
    "                amount = float(input(\"Enter amount to deposit: ₹\"))\n",
    "                accounts[name].Deposit(amount)\n",
    "            else:\n",
    "                print(\"Account not found.\")\n",
    "        elif option == 3:\n",
    "            print()\n",
    "            name = input(\"Enter account name: \")\n",
    "            if name in accounts:\n",
    "                amount = float(input(\"Enter amount to withdraw: ₹\"))\n",
    "                accounts[name].Withdraw(amount)\n",
    "            else:\n",
    "                print(\"Account not found.\")\n",
    "        elif option == 4:\n",
    "            print()\n",
    "            if name in accounts:\n",
    "                name= input(\"Enter account name: \")\n",
    "                accounts[name].CheckBalance()\n",
    "            else:\n",
    "                print(\"Account not found.\")\n",
    "        elif option == 5:\n",
    "            print()\n",
    "            print(\"Thank you!\")\n",
    "            break\n",
    "        else:\n",
    "            print(\"Invalid! Select from the given options.\")\n",
    "\n",
    "main()"
   ]
  },
  {
   "cell_type": "code",
   "execution_count": 6,
   "metadata": {},
   "outputs": [
    {
     "name": "stdout",
     "output_type": "stream",
     "text": [
      "Average: 30.0\n",
      "Differences betweeen each number and the average:\n",
      "Element 0 (10): -20.0\n",
      "Element 1 (20): -10.0\n",
      "Element 2 (30): 0.0\n",
      "Element 3 (40): 10.0\n",
      "Element 4 (50): 20.0\n"
     ]
    }
   ],
   "source": [
    "from array import array as ary\n",
    "\n",
    "def cal_diff(arr):\n",
    "    avg = sum(arr)/len(arr)\n",
    "    print(f\"Average: {avg}\")\n",
    "\n",
    "    differences = ary(\"f\", [num - avg for num in arr])\n",
    "\n",
    "    print(\"Differences betweeen each number and the average:\")\n",
    "    for i, diff in enumerate(differences):\n",
    "        print(f\"Element {i} ({arr[i]}): {diff}\")\n",
    "\n",
    "array_num = ary(\"i\",[10,20,30,40,50])\n",
    "cal_diff(array_num)"
   ]
  },
  {
   "cell_type": "code",
   "execution_count": 7,
   "metadata": {},
   "outputs": [
    {
     "name": "stdout",
     "output_type": "stream",
     "text": [
      "Even Numbers: [2, 4, 6, 8]\n",
      "Odd Numbers: [1, 3, 5, 7, 9]\n"
     ]
    }
   ],
   "source": [
    "from array import array as ary\n",
    "\n",
    "def even_odd(arr):\n",
    "    even_numbers = ary('i',[num for num in arr if num % 2 == 0])\n",
    "    odd_numbers = ary('i',[num for num in arr if num % 2 != 0])\n",
    "\n",
    "    print(\"Even Numbers:\", even_numbers.tolist())\n",
    "    print(\"Odd Numbers:\", odd_numbers.tolist())\n",
    "\n",
    "array_num = ary('i',[1,2,3,4,5,6,7,8,9])\n",
    "even_odd(array_num)"
   ]
  },
  {
   "cell_type": "code",
   "execution_count": 4,
   "metadata": {},
   "outputs": [
    {
     "name": "stdout",
     "output_type": "stream",
     "text": [
      "[1, 2, 3, 4]\n"
     ]
    }
   ],
   "source": [
    "ran = list(range(1,5))\n",
    "print(ran)"
   ]
  },
  {
   "cell_type": "code",
   "execution_count": 7,
   "metadata": {},
   "outputs": [
    {
     "name": "stdout",
     "output_type": "stream",
     "text": [
      "[40, 42, 44, 45, 46, 48, 49, 50]\n",
      "8\n"
     ]
    }
   ],
   "source": [
    "def Prime(n, l):\n",
    "    x = 0 \n",
    "\n",
    "    for i in range(1,n+1):\n",
    "        if n%i == 0:\n",
    "            x += 1 # x = x + 1\n",
    "\n",
    "    if x == 2:\n",
    "        pass\n",
    "    else:\n",
    "        l.append(i)\n",
    "\n",
    "l = list(range(40,51))\n",
    "a = l[0]\n",
    "\n",
    "nl = []\n",
    "\n",
    "while a <= l[-1]:\n",
    "    Prime(a, nl)\n",
    "    a = a + 1\n",
    "\n",
    "print(nl)\n",
    "\n",
    "print(len(nl))"
   ]
  },
  {
   "cell_type": "code",
   "execution_count": 23,
   "metadata": {},
   "outputs": [
    {
     "name": "stdout",
     "output_type": "stream",
     "text": [
      "['my', 'my', 'my', 'is', 'is', 'bye']\n",
      "{'my': 3, 'is': 2, 'bye': 1}\n",
      "is\n"
     ]
    }
   ],
   "source": [
    "str = \"My my my is is bye\"\n",
    "str = str.lower().split(\" \")\n",
    "print(str)\n",
    "\n",
    "sdic = {}\n",
    "for i in str:\n",
    "    x = str.count(i)\n",
    "    sdic[i] = x\n",
    "\n",
    "print(sdic)\n",
    "\n",
    "a = list(sdic.values())\n",
    "a.sort()\n",
    "\n",
    "b = a[-2]\n",
    "for i, j in sdic.items():\n",
    "    if j == b:\n",
    "        print(i)"
   ]
  },
  {
   "cell_type": "code",
   "execution_count": 28,
   "metadata": {},
   "outputs": [
    {
     "name": "stdout",
     "output_type": "stream",
     "text": [
      "['S001', 'S002', 'S001', 'S005', 'S005', 'S009', 'S007']\n",
      "{'S002', 'S005', 'S001', 'S009', 'S007'}\n"
     ]
    }
   ],
   "source": [
    "ol = [{'V':'S001'}, {'V':'S002'}, {'VI':'S001'}, {'VI':'S005'}, {'VII':'S005'}, {'V':'S009'}, {'VIII':'S007'}]\n",
    "l = []\n",
    "\n",
    "for i in ol:\n",
    "    for j, k in i.items():\n",
    "        l.append(k)\n",
    "\n",
    "print(l)\n",
    "l = set(l)\n",
    "print(l)"
   ]
  },
  {
   "cell_type": "code",
   "execution_count": 36,
   "metadata": {},
   "outputs": [
    {
     "name": "stdout",
     "output_type": "stream",
     "text": [
      "\n",
      "**\n",
      "\n",
      "****\n",
      "\n",
      "******\n",
      "\n",
      "********\n",
      "\n",
      "**********\n"
     ]
    }
   ],
   "source": [
    "def odd(n):\n",
    "    if n%2 == 0 :\n",
    "        return True\n",
    "    else:\n",
    "        pass\n",
    "\n",
    "for i in range(1,11):\n",
    "    if odd(i):\n",
    "        print(\"*\"*i)\n",
    "    else:\n",
    "        print()"
   ]
  }
 ],
 "metadata": {
  "kernelspec": {
   "display_name": "base",
   "language": "python",
   "name": "python3"
  },
  "language_info": {
   "codemirror_mode": {
    "name": "ipython",
    "version": 3
   },
   "file_extension": ".py",
   "mimetype": "text/x-python",
   "name": "python",
   "nbconvert_exporter": "python",
   "pygments_lexer": "ipython3",
   "version": "3.12.4"
  }
 },
 "nbformat": 4,
 "nbformat_minor": 2
}
