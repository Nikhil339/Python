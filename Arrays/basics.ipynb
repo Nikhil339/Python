{
 "cells": [
  {
   "cell_type": "code",
   "execution_count": 4,
   "metadata": {},
   "outputs": [],
   "source": [
    "import array as arr"
   ]
  },
  {
   "cell_type": "code",
   "execution_count": 5,
   "metadata": {},
   "outputs": [
    {
     "name": "stdout",
     "output_type": "stream",
     "text": [
      "2\n",
      "array('i', [2, 4, 6, 8])\n",
      "[2, 4, 6, 8]\n"
     ]
    }
   ],
   "source": [
    "a = arr.array('i',[2,4,6,8])\n",
    "print(a[0])\n",
    "print(a)\n",
    "print(a.tolist())"
   ]
  },
  {
   "cell_type": "code",
   "execution_count": 6,
   "metadata": {},
   "outputs": [
    {
     "name": "stdout",
     "output_type": "stream",
     "text": [
      "array('i', [0, 2, 3, 5, 7, 10])\n",
      "array('i', [0, 2, 4, 6, 8, 10])\n"
     ]
    }
   ],
   "source": [
    "b = arr.array('i',[1,2,3,5,7,10])\n",
    "\n",
    "b[0] = 0\n",
    "print(b)\n",
    "b[2:5] = arr.array('i',[4,6,8])\n",
    "print(b)"
   ]
  },
  {
   "cell_type": "code",
   "execution_count": null,
   "metadata": {},
   "outputs": [
    {
     "name": "stdout",
     "output_type": "stream",
     "text": [
      "Index values: 2\n",
      "Origial array: 1 2 3 1 5\n",
      "Reverse: 5 1 3 2 1\n",
      "After appending: 5 1 3 2 1 10\n",
      "After inserting: 5 1 3 3 2 1 10 1 7 3\n",
      "After extending: 5 1 3 3 2 1 10 1 7 3\n",
      "Number of 1's in the array are: 3\n",
      "The element poped from the array is: 3\n",
      "Afer popping: 5 1 3 2 1 10 1 7 3\n",
      "After removing element: 5 3 2 1 10 1 7 3\n",
      "After deleting element at index 2: 5 3 1 10 1 7 3\n",
      "Length of array: 7\n"
     ]
    }
   ],
   "source": [
    "c = arr.array('i', [1, 2, 3, 1, 5])\n",
    "\n",
    "print(\"Index values:\", c.index(3)) #gives index value of the first occurence of the given argument in array\n",
    "print(\"Origial array:\", *c)\n",
    "c.reverse()\n",
    "print(\"Reverse:\", *c)\n",
    "c.append(10)\n",
    "print(\"After appending:\", *c)\n",
    "c.extend([1,7,3])\n",
    "print(\"After extending:\", *c)\n",
    "c.insert(2,3)\n",
    "print(\"After inserting:\", *c)\n",
    "count = c.count(1)\n",
    "print(\"Number of 1's in the array are:\", count)\n",
    "print(\"The element poped from the array is:\", c.pop(2)) #removes element at specified index\n",
    "print(\"Afer popping:\", *c)\n",
    "c.remove(1)\n",
    "print(\"After removing element:\", *c)\n",
    "del c[2]\n",
    "print(\"After deleting element at index 2:\", *c)\n",
    "print(\"Length of array:\", len(c))\n"
   ]
  },
  {
   "cell_type": "code",
   "execution_count": 25,
   "metadata": {},
   "outputs": [
    {
     "name": "stdout",
     "output_type": "stream",
     "text": [
      "Array c =  array('d', [1.1, 2.1, 3.1, 2.6, 7.8, 3.7, 8.6])\n",
      "1.1 2.1 2.6 3.1 3.7 7.8 8.6\n"
     ]
    }
   ],
   "source": [
    "a=arr.array('d',[1.1,2.1,3.1,2.6,7.8])\n",
    "b=arr.array('d',[3.7,8.6])\n",
    "c=arr.array('d')\n",
    "c=a+b\n",
    "print(\"Array c = \",c)\n",
    "sorted = arr.array('d',sorted(c))\n",
    "print(*sorted)"
   ]
  },
  {
   "cell_type": "code",
   "execution_count": 3,
   "metadata": {},
   "outputs": [
    {
     "name": "stdout",
     "output_type": "stream",
     "text": [
      "The sorted array in ascending order is:\n",
      "2 4 7 12 34 56 89 "
     ]
    }
   ],
   "source": [
    "from array import array\n",
    "\n",
    "arr = array('i', [12, 4, 56, 34, 7, 89, 2])\n",
    "\n",
    "arr = array('i', sorted(arr))\n",
    "\n",
    "print(\"The sorted array in ascending order is:\")\n",
    "for num in arr:\n",
    "    print(num, end=\" \")\n"
   ]
  }
 ],
 "metadata": {
  "kernelspec": {
   "display_name": "base",
   "language": "python",
   "name": "python3"
  },
  "language_info": {
   "codemirror_mode": {
    "name": "ipython",
    "version": 3
   },
   "file_extension": ".py",
   "mimetype": "text/x-python",
   "name": "python",
   "nbconvert_exporter": "python",
   "pygments_lexer": "ipython3",
   "version": "3.12.4"
  }
 },
 "nbformat": 4,
 "nbformat_minor": 2
}
