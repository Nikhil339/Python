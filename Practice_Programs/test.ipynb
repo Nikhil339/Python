{
 "cells": [
  {
   "cell_type": "code",
   "execution_count": 2,
   "metadata": {},
   "outputs": [
    {
     "name": "stdout",
     "output_type": "stream",
     "text": [
      "{1: 1, 2: 4, 3: 9, 4: 16, 5: 25, 6: 36, 7: 49, 8: 64, 9: 81, 10: 100, 11: 121, 12: 144, 13: 169, 14: 196, 15: 225}\n"
     ]
    }
   ],
   "source": [
    "Dict = {x:x**2 for x in range(1,16)}\n",
    "print(Dict)"
   ]
  },
  {
   "cell_type": "code",
   "execution_count": 3,
   "metadata": {},
   "outputs": [
    {
     "name": "stdout",
     "output_type": "stream",
     "text": [
      "a 13428\n",
      "b 5874\n"
     ]
    }
   ],
   "source": [
    "Dict = {'Animal':700, 'Ball':5874, 'Dat':560, 'Dog':400, 'Eho':5874, 'Fan': 20}\n",
    "sum = 0\n",
    "L = []\n",
    "for i in Dict:\n",
    "    sum += Dict[i]\n",
    "    L.append(Dict[i])\n",
    "print(\"a\", sum)\n",
    "print(\"b\", max(L))"
   ]
  },
  {
   "cell_type": "code",
   "execution_count": 7,
   "metadata": {},
   "outputs": [
    {
     "name": "stdout",
     "output_type": "stream",
     "text": [
      "{'c1': 'Red', 'c2': 'Green'}\n"
     ]
    }
   ],
   "source": [
    "Dict = {'c1': 'Red', 'c2': 'Green', 'c3': None}\n",
    "\n",
    "for i in Dict:\n",
    "    if Dict[i] == None:\n",
    "        x = i\n",
    "\n",
    "del Dict[x]\n",
    "\n",
    "print(Dict)"
   ]
  },
  {
   "cell_type": "code",
   "execution_count": 5,
   "metadata": {},
   "outputs": [
    {
     "name": "stdout",
     "output_type": "stream",
     "text": [
      "Count: 2\n"
     ]
    }
   ],
   "source": [
    "s = \"Hello\"\n",
    "t = \"World\"\n",
    "\n",
    "s_set = set(s.lower())\n",
    "t_set = set(t.lower())\n",
    "\n",
    "matching = s_set.intersection(t_set)\n",
    "\n",
    "count = len(matching)\n",
    "print(f\"Count: {count}\")"
   ]
  },
  {
   "cell_type": "code",
   "execution_count": 8,
   "metadata": {},
   "outputs": [
    {
     "name": "stdout",
     "output_type": "stream",
     "text": [
      "Even index: ['H', 'l', 'o']\n",
      "Odd index: ['e', 'l']\n"
     ]
    }
   ],
   "source": [
    "s = \"Hello\"\n",
    "\n",
    "le = []\n",
    "lo = []\n",
    "\n",
    "for i in range(len(s)):\n",
    "    if i%2 == 0:\n",
    "        le.append(s[i])\n",
    "    else:\n",
    "        lo.append(s[i])\n",
    "\n",
    "print(\"Even index:\", le)\n",
    "print(\"Odd index:\", lo)"
   ]
  },
  {
   "cell_type": "code",
   "execution_count": 18,
   "metadata": {},
   "outputs": [
    {
     "name": "stdout",
     "output_type": "stream",
     "text": [
      "Helo\n"
     ]
    }
   ],
   "source": [
    "s = \"Hello\"\n",
    "\n",
    "if len(s)<2:\n",
    "    print(\"\")\n",
    "else:\n",
    "    new_s = s[:2] + s[-2:]\n",
    "    print(new_s)"
   ]
  },
  {
   "cell_type": "code",
   "execution_count": 19,
   "metadata": {},
   "outputs": [
    {
     "name": "stdout",
     "output_type": "stream",
     "text": [
      "{'w': 1, '3': 1, 'r': 2, 'e': 2, 's': 1, 'o': 1, 'u': 1, 'c': 1}\n"
     ]
    }
   ],
   "source": [
    "s = \"w3resource\"\n",
    "d = {}\n",
    "\n",
    "for i in s:\n",
    "    x = s.count(i)\n",
    "    d[i] = x\n",
    "\n",
    "print(d)"
   ]
  },
  {
   "cell_type": "code",
   "execution_count": 2,
   "metadata": {},
   "outputs": [
    {
     "name": "stdout",
     "output_type": "stream",
     "text": [
      "[1, 2, 3, 4, 5]\n"
     ]
    }
   ],
   "source": [
    "def main(x):\n",
    "    ls = set(x)\n",
    "    new_list = list(ls)\n",
    "    return new_list\n",
    "\n",
    "print(main([1,1,1,2,3,4,4,5]))"
   ]
  },
  {
   "cell_type": "code",
   "execution_count": 5,
   "metadata": {},
   "outputs": [
    {
     "name": "stdout",
     "output_type": "stream",
     "text": [
      "1 is neither prime nor composite\n",
      "7 is a prime number\n",
      "10 is a composite number\n"
     ]
    }
   ],
   "source": [
    "def prime(x):\n",
    "    y = 0\n",
    "    for i in range(1,x+1):\n",
    "        if x%i == 0:\n",
    "            y += 1\n",
    "        else:\n",
    "            continue\n",
    "    \n",
    "    if y == 2:\n",
    "        print(x,\"is a prime number\")\n",
    "    elif y == 1:\n",
    "        print(x,\"is neither prime nor composite\")\n",
    "    else:\n",
    "        print(x,\"is a composite number\")\n",
    "\n",
    "prime(1)\n",
    "prime(7)\n",
    "prime(10)"
   ]
  },
  {
   "cell_type": "code",
   "execution_count": 11,
   "metadata": {},
   "outputs": [
    {
     "name": "stdout",
     "output_type": "stream",
     "text": [
      "1 4 6 8 9 10 "
     ]
    }
   ],
   "source": [
    "def prime(x):\n",
    "    y = 0\n",
    "    for i in range(1,x+1):\n",
    "        if x%i == 0:\n",
    "            y += 1\n",
    "        else:\n",
    "            continue\n",
    "    \n",
    "    if y == 2:\n",
    "        return True\n",
    "    elif y == 1:\n",
    "        return False\n",
    "    else:\n",
    "        return False\n",
    "    \n",
    "\n",
    "def main(n):\n",
    "    i = 1\n",
    "    while  i <= n:\n",
    "        if prime(i):\n",
    "            pass\n",
    "        elif i != 2 and i%2 == 0:\n",
    "            print(i, end=\" \")\n",
    "        else:\n",
    "            print(i, end=\" \")\n",
    "        \n",
    "        i += 1\n",
    "\n",
    "main(10)"
   ]
  },
  {
   "cell_type": "code",
   "execution_count": 13,
   "metadata": {},
   "outputs": [
    {
     "name": "stdout",
     "output_type": "stream",
     "text": [
      "['My', 'name', 'is', 'Kelly']\n",
      "['My', 'name', 'is', 'Kelly']\n"
     ]
    }
   ],
   "source": [
    "#using for loop\n",
    "list1 = [\"M\", \"na\", \"i\", \"Ke\"]\n",
    "list2 = [\"y\", \"me\", \"s\", \"lly\"]\n",
    "list3 = []\n",
    "\n",
    "for i in range(len(list1)):\n",
    "    x = list1[i] + list2[i]\n",
    "    list3.append(x)\n",
    "\n",
    "print(list3)\n",
    "\n",
    "#using zip\n",
    "x = zip(list1, list2)\n",
    "xl = list(x)\n",
    "\n",
    "l = []\n",
    "\n",
    "for i in xl:\n",
    "    z = i[0] + i[1]\n",
    "    l.append(z)\n",
    "\n",
    "print(l)"
   ]
  },
  {
   "cell_type": "code",
   "execution_count": 14,
   "metadata": {},
   "outputs": [
    {
     "name": "stdout",
     "output_type": "stream",
     "text": [
      "1505 1540 1575 1610 1645 1680 1715 1750 1785 1820 1855 1890 1925 1960 1995 2030 2065 2100 2135 2170 2205 2240 2275 2310 2345 2380 2415 2450 2485 2520 2555 2590 2625 2660 2695 "
     ]
    }
   ],
   "source": [
    "for i in range(1500, 2701):\n",
    "    if i%7 == 0 and i%5 == 0:\n",
    "        print(i, end=\" \")\n",
    "        "
   ]
  },
  {
   "cell_type": "code",
   "execution_count": 15,
   "metadata": {},
   "outputs": [
    {
     "name": "stdout",
     "output_type": "stream",
     "text": [
      "1 2 3 5 8 13 21 34 55 89 144 233 377 610 987 1597 2584 4181 6765 10946 17711 28657 46368 75025 121393 196418 317811 514229 832040 1346269 2178309 3524578 5702887 9227465 14930352 24157817 39088169 63245986 102334155 165580141 267914296 433494437 701408733 1134903170 1836311903 2971215073 4807526976 7778742049 12586269025 20365011074 32951280099 "
     ]
    }
   ],
   "source": [
    "n = 50\n",
    "\n",
    "num1 = 0\n",
    "num2 = 1\n",
    "num = 0\n",
    "\n",
    "for i in range(n+1):\n",
    "    num = num1 + num2\n",
    "    print(num, end = \" \")\n",
    "    num1, num2 = num2, num"
   ]
  }
 ],
 "metadata": {
  "kernelspec": {
   "display_name": "base",
   "language": "python",
   "name": "python3"
  },
  "language_info": {
   "codemirror_mode": {
    "name": "ipython",
    "version": 3
   },
   "file_extension": ".py",
   "mimetype": "text/x-python",
   "name": "python",
   "nbconvert_exporter": "python",
   "pygments_lexer": "ipython3",
   "version": "3.12.4"
  }
 },
 "nbformat": 4,
 "nbformat_minor": 2
}
