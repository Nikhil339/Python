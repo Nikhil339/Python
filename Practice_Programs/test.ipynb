{
 "cells": [
  {
   "cell_type": "code",
   "execution_count": 2,
   "metadata": {},
   "outputs": [
    {
     "name": "stdout",
     "output_type": "stream",
     "text": [
      "{1: 1, 2: 4, 3: 9, 4: 16, 5: 25, 6: 36, 7: 49, 8: 64, 9: 81, 10: 100, 11: 121, 12: 144, 13: 169, 14: 196, 15: 225}\n"
     ]
    }
   ],
   "source": [
    "Dict = {x:x**2 for x in range(1,16)}\n",
    "print(Dict)"
   ]
  },
  {
   "cell_type": "code",
   "execution_count": 3,
   "metadata": {},
   "outputs": [
    {
     "name": "stdout",
     "output_type": "stream",
     "text": [
      "a 13428\n",
      "b 5874\n"
     ]
    }
   ],
   "source": [
    "Dict = {'Animal':700, 'Ball':5874, 'Dat':560, 'Dog':400, 'Eho':5874, 'Fan': 20}\n",
    "sum = 0\n",
    "L = []\n",
    "for i in Dict:\n",
    "    sum += Dict[i]\n",
    "    L.append(Dict[i])\n",
    "print(\"a\", sum)\n",
    "print(\"b\", max(L))"
   ]
  },
  {
   "cell_type": "code",
   "execution_count": 7,
   "metadata": {},
   "outputs": [
    {
     "name": "stdout",
     "output_type": "stream",
     "text": [
      "{'c1': 'Red', 'c2': 'Green'}\n"
     ]
    }
   ],
   "source": [
    "Dict = {'c1': 'Red', 'c2': 'Green', 'c3': None}\n",
    "\n",
    "for i in Dict:\n",
    "    if Dict[i] == None:\n",
    "        x = i\n",
    "\n",
    "del Dict[x]\n",
    "\n",
    "print(Dict)"
   ]
  },
  {
   "cell_type": "code",
   "execution_count": 5,
   "metadata": {},
   "outputs": [
    {
     "name": "stdout",
     "output_type": "stream",
     "text": [
      "Count: 2\n"
     ]
    }
   ],
   "source": [
    "s = \"Hello\"\n",
    "t = \"World\"\n",
    "\n",
    "s_set = set(s.lower())\n",
    "t_set = set(t.lower())\n",
    "\n",
    "matching = s_set.intersection(t_set)\n",
    "\n",
    "count = len(matching)\n",
    "print(f\"Count: {count}\")"
   ]
  },
  {
   "cell_type": "code",
   "execution_count": 8,
   "metadata": {},
   "outputs": [
    {
     "name": "stdout",
     "output_type": "stream",
     "text": [
      "Even index: ['H', 'l', 'o']\n",
      "Odd index: ['e', 'l']\n"
     ]
    }
   ],
   "source": [
    "s = \"Hello\"\n",
    "\n",
    "le = []\n",
    "lo = []\n",
    "\n",
    "for i in range(len(s)):\n",
    "    if i%2 == 0:\n",
    "        le.append(s[i])\n",
    "    else:\n",
    "        lo.append(s[i])\n",
    "\n",
    "print(\"Even index:\", le)\n",
    "print(\"Odd index:\", lo)"
   ]
  },
  {
   "cell_type": "code",
   "execution_count": 18,
   "metadata": {},
   "outputs": [
    {
     "name": "stdout",
     "output_type": "stream",
     "text": [
      "Helo\n"
     ]
    }
   ],
   "source": [
    "s = \"Hello\"\n",
    "\n",
    "if len(s)<2:\n",
    "    print(\"\")\n",
    "else:\n",
    "    new_s = s[:2] + s[-2:]\n",
    "    print(new_s)"
   ]
  },
  {
   "cell_type": "code",
   "execution_count": 19,
   "metadata": {},
   "outputs": [
    {
     "name": "stdout",
     "output_type": "stream",
     "text": [
      "{'w': 1, '3': 1, 'r': 2, 'e': 2, 's': 1, 'o': 1, 'u': 1, 'c': 1}\n"
     ]
    }
   ],
   "source": [
    "s = \"w3resource\"\n",
    "d = {}\n",
    "\n",
    "for i in s:\n",
    "    x = s.count(i)\n",
    "    d[i] = x\n",
    "\n",
    "print(d)"
   ]
  }
 ],
 "metadata": {
  "kernelspec": {
   "display_name": "base",
   "language": "python",
   "name": "python3"
  },
  "language_info": {
   "codemirror_mode": {
    "name": "ipython",
    "version": 3
   },
   "file_extension": ".py",
   "mimetype": "text/x-python",
   "name": "python",
   "nbconvert_exporter": "python",
   "pygments_lexer": "ipython3",
   "version": "3.12.4"
  }
 },
 "nbformat": 4,
 "nbformat_minor": 2
}
